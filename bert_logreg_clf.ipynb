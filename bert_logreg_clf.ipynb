{
 "cells": [
  {
   "cell_type": "code",
   "execution_count": null,
   "metadata": {},
   "outputs": [],
   "source": [
    "!pip install pymorphy2[fast]\n",
    "!pip install -U pymorphy2-dicts-ru\n",
    "!pip install nltk\n",
    "!pip install transformers\n",
    "!pip install imblearn\n",
    "!pip install stanza\n",
    "!pip install allennlp"
   ]
  },
  {
   "cell_type": "code",
   "execution_count": null,
   "metadata": {},
   "outputs": [],
   "source": [
    "import re\n",
    "import random\n",
    "import codecs\n",
    "import pickle\n",
    "\n",
    "import numpy as np\n",
    "import pandas as pd\n",
    "import matplotlib.pyplot as plt\n",
    "\n",
    "import pymorphy2\n",
    "import nltk\n",
    "from nltk.corpus import stopwords\n",
    "\n",
    "from sklearn.metrics import accuracy_score, classification_report\n",
    "from sklearn.linear_model import LogisticRegression\n",
    "\n",
    "import torch\n",
    "import torch.nn as nn\n",
    "\n",
    "from transformers import AutoTokenizer, AutoModel\n",
    "\n",
    "from imblearn.under_sampling import NearMiss\n",
    "import stanza\n",
    "\n",
    "import warnings\n",
    "\n",
    "warnings.filterwarnings('ignore')\n",
    "nltk.download(\"stopwords\")\n",
    "stanza.download('ru')"
   ]
  },
  {
   "cell_type": "code",
   "execution_count": 3,
   "metadata": {},
   "outputs": [],
   "source": [
    "def set_random_state(seed):\n",
    "    torch.manual_seed(seed)\n",
    "    random.seed(seed)\n",
    "    np.random.seed(seed)\n",
    "    \n",
    "    print(f\"seed={seed} fixed\")"
   ]
  },
  {
   "cell_type": "code",
   "execution_count": 23,
   "metadata": {},
   "outputs": [],
   "source": [
    "def read_csv(file_name=\"test.csv\"):\n",
    "    df = pd.read_csv(file_name)\n",
    "    \n",
    "    print(f\"Unique dialogs: {df['dlg_id'].unique().shape[0]}\\n\")\n",
    "    print(f\"Misses:\\n{df.isna().sum()}\\n\")\n",
    "    print(f\"Column types:\\n{df.dtypes}\")\n",
    "    \n",
    "    return df\n"
   ]
  },
  {
   "cell_type": "code",
   "execution_count": 5,
   "metadata": {},
   "outputs": [],
   "source": [
    "def preprocess_data(data):\n",
    "    def greeting_func(sentence):\n",
    "        for greeting in greetings_list:\n",
    "            if re.findall(greeting, sentence.lower()):\n",
    "                return 1\n",
    "        \n",
    "        return 0\n",
    "    \n",
    "    \n",
    "    # role = {\n",
    "    #     \"client\": 0,\n",
    "    #     \"manager\": 1\n",
    "    # }\n",
    "    \n",
    "    greetings_list = [\n",
    "        \"доброе утро\"\n",
    "        \"добрый день\",\n",
    "        \"добрый вечер\",\n",
    "        \"здравствуйте\",\n",
    "        \"до свидания\",\n",
    "        \"меня зовут\",\n",
    "    ]\n",
    "    \n",
    "    df = data.copy()\n",
    "    morph = pymorphy2.MorphAnalyzer()\n",
    "    ru_stopwords = stopwords.words(\"russian\")\n",
    "    digits = [str(i) for i in range(10)]\n",
    "    \n",
    "    # df[\"text\"] = df[\"text\"].apply(lambda sentences: \" \".join([morph.normal_forms(word)[0]\n",
    "    #                                   for word in sentences.split()\n",
    "    #                                   if (word not in ru_stopwords) and (word[0] not in digits)]))\n",
    "    # df[\"role\"] = df[\"role\"].apply(lambda person: role[person])\n",
    "    \n",
    "    df[\"text\"] = df[\"text\"].apply(lambda sentences: \" \".join([word for word in sentences.split()\n",
    "                                                              if (word[0]) not in digits]))\n",
    "    df[\"insight\"] = df[\"text\"].apply(lambda sentences: greeting_func(sentences))\n",
    "    \n",
    "    # X_train = df[(df[\"dlg_id\"] <= 3) & (df[\"role\"] == 1)]\n",
    "    # X_test = df[(4 <= df[\"dlg_id\"]) & (df[\"role\"] == 1)]\n",
    "    \n",
    "    # X_train = df[(df[\"dlg_id\"] <= 3)]\n",
    "    # X_test = df[(4 <= df[\"dlg_id\"])]\n",
    "    \n",
    "    return df"
   ]
  },
  {
   "cell_type": "code",
   "execution_count": 6,
   "metadata": {},
   "outputs": [],
   "source": [
    "def data_loader(X, Y, batch_size=1):\n",
    "    num_objects = X.shape[0]\n",
    "\n",
    "    indices = np.arange(num_objects)\n",
    "    np.random.shuffle(indices)\n",
    "\n",
    "    for start in range(0, num_objects, batch_size):\n",
    "        end = min(start + batch_size, num_objects)\n",
    "        batch_idx = indices[start:end]\n",
    "\n",
    "        yield X[batch_idx], Y[batch_idx]"
   ]
  },
  {
   "cell_type": "code",
   "execution_count": 7,
   "metadata": {},
   "outputs": [],
   "source": [
    "def load_bert(model_name):\n",
    "    tokenizer = AutoTokenizer.from_pretrained(model_name)\n",
    "    model = AutoModel.from_pretrained(model_name)\n",
    "    \n",
    "    return model, tokenizer"
   ]
  },
  {
   "cell_type": "code",
   "execution_count": 8,
   "metadata": {},
   "outputs": [],
   "source": [
    "def embed_bert_cls(text, model, tokenizer):\n",
    "    embedding_corpus = []\n",
    "    \n",
    "    for replic in text:\n",
    "        t = tokenizer(replic, padding=True, truncation=True, return_tensors='pt')\n",
    "        with torch.no_grad():\n",
    "            model_output = model(**{k: v.to(model.device) for k, v in t.items()})\n",
    "        embeddings = model_output.last_hidden_state[:, 0, :]\n",
    "        embeddings = torch.nn.functional.normalize(embeddings)\n",
    "        \n",
    "        embedding_corpus.append(embeddings[0].cpu().numpy())\n",
    "    \n",
    "    return torch.tensor((embedding_corpus))"
   ]
  },
  {
   "cell_type": "code",
   "execution_count": 9,
   "metadata": {},
   "outputs": [],
   "source": [
    "def make_nn_clf(in_feat, out_feat, classes=2):\n",
    "    \n",
    "    model = nn.Sequential(\n",
    "        nn.Linear(in_feat, out_feat),\n",
    "        nn.ReLU(),\n",
    "        nn.BatchNorm1d(out_feat),\n",
    "        nn.Linear(out_feat, out_feat),\n",
    "        nn.ReLU(),\n",
    "        nn.BatchNorm1d(out_feat),\n",
    "        nn.Linear(out_feat, classes),\n",
    "        nn.Softmax()\n",
    "    )\n",
    "    \n",
    "    optimizer = torch.optim.Adam(model.parameters())\n",
    "    criterion = nn.CrossEntropyLoss()\n",
    "    \n",
    "    return model, optimizer, criterion\n"
   ]
  },
  {
   "cell_type": "code",
   "execution_count": 10,
   "metadata": {},
   "outputs": [],
   "source": [
    "def train(model, optimizer, criterion, epochs=50, eval_every=10 , plot=True):\n",
    "    loss_history = []\n",
    "    model.train()\n",
    "\n",
    "    for epoch in range(epochs):  \n",
    "        for X, y in data_loader(train_set, train_labels, batch_size=train_set.shape[0]):\n",
    "            optimizer.zero_grad()\n",
    "            \n",
    "            y_pred = model(X)\n",
    "            loss = criterion(y_pred, y)\n",
    "            loss.backward()\n",
    "            \n",
    "            optimizer.step()\n",
    "        \n",
    "        loss_history.append(loss.item())\n",
    "        # print(f\"avg loss epoch: {loss_history[-1] / train_set.shape[0]}\")\n",
    "        \n",
    "        if (epoch + 1) % eval_every == 0:\n",
    "            model.eval()\n",
    "            \n",
    "            y_test_pred = model(test_set).argmax(axis=1)\n",
    "            y_train_pred = model(train_set).argmax(axis=1)\n",
    "            \n",
    "            print(f\"Epoch: {epoch + 1}\")\n",
    "            print(f\"Accuracy test: {accuracy_score(y_test_pred, test_labels)}\")\n",
    "            print(f\"Accuracy train: {accuracy_score(y_train_pred, train_labels)}\")\n",
    "            print()\n",
    "            \n",
    "            model.train()\n",
    "            \n",
    "    if plot: \n",
    "        plt.plot(np.arange(EPOCHS), loss_history)\n",
    "        plt.xlabel(\"epoch\")\n",
    "        plt.ylabel(\"loss\")\n",
    "        plt.title(\"loss history\")\n",
    "        plt.show()\n",
    "        \n",
    "    return model"
   ]
  },
  {
   "cell_type": "code",
   "execution_count": 11,
   "metadata": {},
   "outputs": [],
   "source": [
    "def evaluate(nn_model, clf, data, labels, report=True):\n",
    "    nn_model.eval()\n",
    "    \n",
    "    clf_pred = clf.predict(data)\n",
    "    one_class_pred = np.ones(shape=(labels.shape[0],))\n",
    "    zero_class_pred = np.zeros(shape=(labels.shape[0],))\n",
    "    nn_clf_pred = nn_model(data).detach().numpy().argmax(axis=1)\n",
    "    \n",
    "    nn_model.train()\n",
    "    \n",
    "    \n",
    "    if report:\n",
    "        print(f\"Neural Network clf accuracy: {accuracy_score(nn_clf_pred, labels)}\")\n",
    "        print(f\"Linear clf accuracy: {accuracy_score(clf_pred, labels)}\")\n",
    "        print(f\"0 class accuracy: {accuracy_score(zero_class_pred, labels)}\")\n",
    "        print(f\"1 class accuracy: {accuracy_score(one_class_pred, labels)}\\n\")\n",
    "        \n",
    "        print(\"Neural network clf report:\")\n",
    "        print(classification_report(labels, nn_clf_pred))\n",
    "        print()\n",
    "        \n",
    "        print(\"Logistic Regression report:\")\n",
    "        print(classification_report(labels, clf_pred))\n",
    "        \n",
    "        "
   ]
  },
  {
   "cell_type": "code",
   "execution_count": 12,
   "metadata": {},
   "outputs": [],
   "source": [
    "def make_predict(text_corpus, bert, tokenizer, clf, neural_clf=True):\n",
    "    embedding = embed_bert_cls(text_corpus, bert, tokenizer)\n",
    "    \n",
    "    if neural_clf:\n",
    "        clf.eval()\n",
    "    \n",
    "        pred_class = clf(embedding).argmax(axis=1)\n",
    "    \n",
    "        clf.train()\n",
    "        \n",
    "    else:\n",
    "        pred_class = clf.predict(embedding)\n",
    "\n",
    "    print(f\"text: {text_corpus} - class: {pred_class}\")\n",
    "    "
   ]
  },
  {
   "cell_type": "code",
   "execution_count": 13,
   "metadata": {},
   "outputs": [],
   "source": [
    "def save_models(nn_model, default_model):\n",
    "    torch.save(nn_model.state_dict(), \"./models/nn_classifier.pt\")\n",
    "    pickle.dump(default_model, open(\"./models/logreg_classifier.sav\", \"wb\"))"
   ]
  },
  {
   "cell_type": "code",
   "execution_count": 92,
   "metadata": {},
   "outputs": [],
   "source": [
    "def stanza_nlp_ru(text):\n",
    "    nlp = stanza.Pipeline(lang='ru', processors='tokenize,ner')\n",
    "    doc = nlp(text)\n",
    "\n",
    "    print(*[f'entity: {ent.text}\\ttype: {ent.type}' for sent in doc.sentences for ent in sent.ents], sep='\\n')"
   ]
  },
  {
   "cell_type": "markdown",
   "metadata": {},
   "source": [
    "Fixed seed"
   ]
  },
  {
   "cell_type": "code",
   "execution_count": 14,
   "metadata": {},
   "outputs": [
    {
     "name": "stdout",
     "output_type": "stream",
     "text": [
      "seed=0 fixed\n"
     ]
    }
   ],
   "source": [
    "set_random_state(0)"
   ]
  },
  {
   "cell_type": "markdown",
   "metadata": {},
   "source": [
    "Preprocessing data"
   ]
  },
  {
   "cell_type": "code",
   "execution_count": 24,
   "metadata": {},
   "outputs": [
    {
     "name": "stdout",
     "output_type": "stream",
     "text": [
      "Unique dialogs: 6\n",
      "\n",
      "Misses:\n",
      "dlg_id    0\n",
      "line_n    0\n",
      "role      0\n",
      "text      0\n",
      "dtype: int64\n",
      "\n",
      "Column types:\n",
      "dlg_id     int64\n",
      "line_n     int64\n",
      "role      object\n",
      "text      object\n",
      "dtype: object\n"
     ]
    },
    {
     "data": {
      "text/plain": [
       "(480, 5)"
      ]
     },
     "execution_count": 24,
     "metadata": {},
     "output_type": "execute_result"
    }
   ],
   "source": [
    "df = read_csv(file_name=\"./test_data/test.csv\")\n",
    "test_data = preprocess_data(df)\n",
    "\n",
    "test_data.shape"
   ]
  },
  {
   "cell_type": "markdown",
   "metadata": {},
   "source": [
    "Loading pretrained rubert"
   ]
  },
  {
   "cell_type": "code",
   "execution_count": null,
   "metadata": {},
   "outputs": [],
   "source": [
    "rubert, tokenizer = load_bert(\"cointegrated/rubert-tiny2\")"
   ]
  },
  {
   "cell_type": "markdown",
   "metadata": {},
   "source": [
    "Train / Test split + extracted labels"
   ]
  },
  {
   "cell_type": "code",
   "execution_count": 27,
   "metadata": {},
   "outputs": [
    {
     "data": {
      "text/plain": [
       "((480, 5), torch.Size([480, 312]))"
      ]
     },
     "execution_count": 27,
     "metadata": {},
     "output_type": "execute_result"
    }
   ],
   "source": [
    "test_set = embed_bert_cls(test_data[\"text\"], rubert, tokenizer)\n",
    "test_labels = torch.tensor(test_data[\"insight\"].to_numpy(), dtype=torch.int64)\n",
    "\n",
    "\n",
    "test_data.shape, test_set.shape"
   ]
  },
  {
   "cell_type": "markdown",
   "metadata": {},
   "source": [
    "Made Neural Network classifier and train it"
   ]
  },
  {
   "cell_type": "code",
   "execution_count": 28,
   "metadata": {},
   "outputs": [],
   "source": [
    "train_set = []\n",
    "\n",
    "txt_file = codecs.open(\"./train_data/dialogues/dialogues.txt\", \"r\", \"utf_8_sig\" )\n",
    "counter = 0\n",
    "\n",
    "for line in txt_file:\n",
    "    correct_line = \" \".join(re.sub(\"[^А-Яа-я0-9]\", \" \", line).split())\n",
    "    \n",
    "    if counter == 100000:\n",
    "        break\n",
    "    \n",
    "    if correct_line:\n",
    "        train_set.append(correct_line)\n",
    "        counter += 1\n",
    "\n",
    "train_set = np.array(train_set)\n",
    "txt_file.close()"
   ]
  },
  {
   "cell_type": "code",
   "execution_count": 29,
   "metadata": {},
   "outputs": [
    {
     "data": {
      "text/plain": [
       "(100000, 2)"
      ]
     },
     "execution_count": 29,
     "metadata": {},
     "output_type": "execute_result"
    }
   ],
   "source": [
    "train_data = pd.DataFrame([])\n",
    "\n",
    "train_data[\"text\"] = train_set\n",
    "train_data = preprocess_data(train_data)\n",
    "\n",
    "train_data.shape"
   ]
  },
  {
   "cell_type": "code",
   "execution_count": 30,
   "metadata": {},
   "outputs": [
    {
     "data": {
      "text/plain": [
       "(torch.Size([100000, 312]), torch.Size([100000]))"
      ]
     },
     "execution_count": 30,
     "metadata": {},
     "output_type": "execute_result"
    }
   ],
   "source": [
    "train_set = embed_bert_cls(train_data[\"text\"], rubert, tokenizer)\n",
    "train_labels = torch.tensor(train_data[\"insight\"].to_numpy(), dtype=torch.int64)\n",
    "\n",
    "train_set.shape, train_labels.shape"
   ]
  },
  {
   "cell_type": "markdown",
   "metadata": {},
   "source": [
    "Under sampling"
   ]
  },
  {
   "cell_type": "code",
   "execution_count": 31,
   "metadata": {},
   "outputs": [],
   "source": [
    "nm = NearMiss()\n",
    "train_set, train_labels = nm.fit_resample(train_set, train_labels)\n",
    "\n",
    "train_set.shape, train_labels.shape"
   ]
  },
  {
   "cell_type": "code",
   "execution_count": 32,
   "metadata": {},
   "outputs": [],
   "source": [
    "train_set = torch.tensor(train_set)\n",
    "train_labels = torch.tensor(train_labels, dtype=torch.int64)"
   ]
  },
  {
   "cell_type": "markdown",
   "metadata": {},
   "source": [
    "Train"
   ]
  },
  {
   "cell_type": "code",
   "execution_count": 33,
   "metadata": {},
   "outputs": [],
   "source": [
    "FEATURES = train_set.shape[1]\n",
    "OUT_FEAT = 128\n",
    "CLASSES = 2\n",
    "\n",
    "\n",
    "nn_clf, optimizer, criterion = make_nn_clf(in_feat=FEATURES, out_feat=OUT_FEAT, classes=CLASSES)"
   ]
  },
  {
   "cell_type": "code",
   "execution_count": 34,
   "metadata": {},
   "outputs": [
    {
     "name": "stdout",
     "output_type": "stream",
     "text": [
      "Epoch: 50\n",
      "Accuracy test: 0.06458333333333334\n",
      "Accuracy train: 0.0485\n",
      "\n",
      "Epoch: 100\n",
      "Accuracy test: 0.9583333333333334\n",
      "Accuracy train: 0.96176\n",
      "\n",
      "Epoch: 150\n",
      "Accuracy test: 0.9604166666666667\n",
      "Accuracy train: 0.96207\n",
      "\n",
      "Epoch: 200\n",
      "Accuracy test: 0.9583333333333334\n",
      "Accuracy train: 0.96208\n",
      "\n",
      "Epoch: 250\n",
      "Accuracy test: 0.95625\n",
      "Accuracy train: 0.96209\n",
      "\n",
      "Epoch: 300\n",
      "Accuracy test: 0.95625\n",
      "Accuracy train: 0.96209\n",
      "\n"
     ]
    },
    {
     "data": {
      "image/png": "[encoded data removed]",
      "text/plain": [
       "<Figure size 432x288 with 1 Axes>"
      ]
     },
     "metadata": {
      "needs_background": "light"
     },
     "output_type": "display_data"
    }
   ],
   "source": [
    "EPOCHS = 300\n",
    "EVAL_EVERY = 50\n",
    "\n",
    "nn_clf = train(model=nn_clf, optimizer=optimizer, criterion=criterion, epochs=EPOCHS, eval_every=EVAL_EVERY, plot=True)"
   ]
  },
  {
   "cell_type": "markdown",
   "metadata": {},
   "source": [
    "I tried to make Logistic Regression, that compare it with neural network"
   ]
  },
  {
   "cell_type": "code",
   "execution_count": 35,
   "metadata": {},
   "outputs": [
    {
     "data": {
      "text/html": [
       "<style>#sk-container-id-1 {color: black;background-color: white;}#sk-container-id-1 pre{padding: 0;}#sk-container-id-1 div.sk-toggleable {background-color: white;}#sk-container-id-1 label.sk-toggleable__label {cursor: pointer;display: block;width: 100%;margin-bottom: 0;padding: 0.3em;box-sizing: border-box;text-align: center;}#sk-container-id-1 label.sk-toggleable__label-arrow:before {content: \"▸\";float: left;margin-right: 0.25em;color: #696969;}#sk-container-id-1 label.sk-toggleable__label-arrow:hover:before {color: black;}#sk-container-id-1 div.sk-estimator:hover label.sk-toggleable__label-arrow:before {color: black;}#sk-container-id-1 div.sk-toggleable__content {max-height: 0;max-width: 0;overflow: hidden;text-align: left;background-color: #f0f8ff;}#sk-container-id-1 div.sk-toggleable__content pre {margin: 0.2em;color: black;border-radius: 0.25em;background-color: #f0f8ff;}#sk-container-id-1 input.sk-toggleable__control:checked~div.sk-toggleable__content {max-height: 200px;max-width: 100%;overflow: auto;}#sk-container-id-1 input.sk-toggleable__control:checked~label.sk-toggleable__label-arrow:before {content: \"▾\";}#sk-container-id-1 div.sk-estimator input.sk-toggleable__control:checked~label.sk-toggleable__label {background-color: #d4ebff;}#sk-container-id-1 div.sk-label input.sk-toggleable__control:checked~label.sk-toggleable__label {background-color: #d4ebff;}#sk-container-id-1 input.sk-hidden--visually {border: 0;clip: rect(1px 1px 1px 1px);clip: rect(1px, 1px, 1px, 1px);height: 1px;margin: -1px;overflow: hidden;padding: 0;position: absolute;width: 1px;}#sk-container-id-1 div.sk-estimator {font-family: monospace;background-color: #f0f8ff;border: 1px dotted black;border-radius: 0.25em;box-sizing: border-box;margin-bottom: 0.5em;}#sk-container-id-1 div.sk-estimator:hover {background-color: #d4ebff;}#sk-container-id-1 div.sk-parallel-item::after {content: \"\";width: 100%;border-bottom: 1px solid gray;flex-grow: 1;}#sk-container-id-1 div.sk-label:hover label.sk-toggleable__label {background-color: #d4ebff;}#sk-container-id-1 div.sk-serial::before {content: \"\";position: absolute;border-left: 1px solid gray;box-sizing: border-box;top: 0;bottom: 0;left: 50%;z-index: 0;}#sk-container-id-1 div.sk-serial {display: flex;flex-direction: column;align-items: center;background-color: white;padding-right: 0.2em;padding-left: 0.2em;position: relative;}#sk-container-id-1 div.sk-item {position: relative;z-index: 1;}#sk-container-id-1 div.sk-parallel {display: flex;align-items: stretch;justify-content: center;background-color: white;position: relative;}#sk-container-id-1 div.sk-item::before, #sk-container-id-1 div.sk-parallel-item::before {content: \"\";position: absolute;border-left: 1px solid gray;box-sizing: border-box;top: 0;bottom: 0;left: 50%;z-index: -1;}#sk-container-id-1 div.sk-parallel-item {display: flex;flex-direction: column;z-index: 1;position: relative;background-color: white;}#sk-container-id-1 div.sk-parallel-item:first-child::after {align-self: flex-end;width: 50%;}#sk-container-id-1 div.sk-parallel-item:last-child::after {align-self: flex-start;width: 50%;}#sk-container-id-1 div.sk-parallel-item:only-child::after {width: 0;}#sk-container-id-1 div.sk-dashed-wrapped {border: 1px dashed gray;margin: 0 0.4em 0.5em 0.4em;box-sizing: border-box;padding-bottom: 0.4em;background-color: white;}#sk-container-id-1 div.sk-label label {font-family: monospace;font-weight: bold;display: inline-block;line-height: 1.2em;}#sk-container-id-1 div.sk-label-container {text-align: center;}#sk-container-id-1 div.sk-container {/* jupyter's `normalize.less` sets `[hidden] { display: none; }` but bootstrap.min.css set `[hidden] { display: none !important; }` so we also need the `!important` here to be able to override the default hidden behavior on the sphinx rendered scikit-learn.org. See: https://github.com/scikit-learn/scikit-learn/issues/21755 */display: inline-block !important;position: relative;}#sk-container-id-1 div.sk-text-repr-fallback {display: none;}</style><div id=\"sk-container-id-1\" class=\"sk-top-container\"><div class=\"sk-text-repr-fallback\"><pre>LogisticRegression(class_weight=&#x27;balanced&#x27;)</pre><b>In a Jupyter environment, please rerun this cell to show the HTML representation or trust the notebook. <br />On GitHub, the HTML representation is unable to render, please try loading this page with nbviewer.org.</b></div><div class=\"sk-container\" hidden><div class=\"sk-item\"><div class=\"sk-estimator sk-toggleable\"><input class=\"sk-toggleable__control sk-hidden--visually\" id=\"sk-estimator-id-1\" type=\"checkbox\" checked><label for=\"sk-estimator-id-1\" class=\"sk-toggleable__label sk-toggleable__label-arrow\">LogisticRegression</label><div class=\"sk-toggleable__content\"><pre>LogisticRegression(class_weight=&#x27;balanced&#x27;)</pre></div></div></div></div></div>"
      ],
      "text/plain": [
       "LogisticRegression(class_weight='balanced')"
      ]
     },
     "execution_count": 35,
     "metadata": {},
     "output_type": "execute_result"
    }
   ],
   "source": [
    "def_clf = LogisticRegression(penalty=\"l2\", class_weight=\"balanced\")\n",
    "def_clf.fit(train_set, train_labels)"
   ]
  },
  {
   "cell_type": "code",
   "execution_count": 36,
   "metadata": {},
   "outputs": [
    {
     "name": "stdout",
     "output_type": "stream",
     "text": [
      "Neural Network clf accuracy: 0.95625\n",
      "Linear clf accuracy: 0.98125\n",
      "0 class accuracy: 0.96875\n",
      "1 class accuracy: 0.03125\n",
      "\n",
      "Neural network clf report:\n",
      "              precision    recall  f1-score   support\n",
      "\n",
      "           0       0.97      0.98      0.98       465\n",
      "           1       0.25      0.20      0.22        15\n",
      "\n",
      "    accuracy                           0.96       480\n",
      "   macro avg       0.61      0.59      0.60       480\n",
      "weighted avg       0.95      0.96      0.95       480\n",
      "\n",
      "\n",
      "Logistic Regression report:\n",
      "              precision    recall  f1-score   support\n",
      "\n",
      "           0       1.00      0.98      0.99       465\n",
      "           1       0.62      1.00      0.77        15\n",
      "\n",
      "    accuracy                           0.98       480\n",
      "   macro avg       0.81      0.99      0.88       480\n",
      "weighted avg       0.99      0.98      0.98       480\n",
      "\n"
     ]
    }
   ],
   "source": [
    "evaluate(nn_model=nn_clf, clf=def_clf, data=test_set, labels=test_labels, report=True)"
   ]
  },
  {
   "cell_type": "markdown",
   "metadata": {},
   "source": [
    "Classes imbalanced"
   ]
  },
  {
   "cell_type": "code",
   "execution_count": 39,
   "metadata": {},
   "outputs": [
    {
     "data": {
      "text/plain": [
       "0    99681\n",
       "1      319\n",
       "Name: insight, dtype: int64"
      ]
     },
     "execution_count": 39,
     "metadata": {},
     "output_type": "execute_result"
    }
   ],
   "source": [
    "train_data[\"insight\"].value_counts()"
   ]
  },
  {
   "cell_type": "code",
   "execution_count": 40,
   "metadata": {},
   "outputs": [
    {
     "name": "stdout",
     "output_type": "stream",
     "text": [
      "text: ['Отлично', 'До свидания, Мария, мы вам перезвоним', 'Как ваши дела?', 'Добрый день', 'Здравствуйте, звоним вам по поводу'] - class: tensor([0, 1, 0, 0, 1])\n",
      "text: ['Отлично', 'До свидания, Мария, мы вам перезвоним', 'Как ваши дела?', 'Добрый день', 'Здравствуйте, звоним вам по поводу'] - class: [0 1 0 1 1]\n"
     ]
    }
   ],
   "source": [
    "text = [\n",
    "    \"Отлично\",\n",
    "    \"До свидания, Мария, мы вам перезвоним\",\n",
    "    \"Как ваши дела?\",\n",
    "    \"Добрый день\",\n",
    "    \"Здравствуйте, звоним вам по поводу\"\n",
    "]\n",
    "\n",
    "make_predict(text, rubert, tokenizer, nn_clf)\n",
    "make_predict(text, rubert, tokenizer, def_clf, neural_clf=False)"
   ]
  },
  {
   "cell_type": "code",
   "execution_count": 84,
   "metadata": {},
   "outputs": [],
   "source": [
    "y_pred = def_clf.predict(test_set)\n",
    "\n",
    "test_data[\"mark\"] = y_pred"
   ]
  },
  {
   "cell_type": "code",
   "execution_count": 86,
   "metadata": {},
   "outputs": [
    {
     "data": {
      "text/html": [
       "<div>\n",
       "<style scoped>\n",
       "    .dataframe tbody tr th:only-of-type {\n",
       "        vertical-align: middle;\n",
       "    }\n",
       "\n",
       "    .dataframe tbody tr th {\n",
       "        vertical-align: top;\n",
       "    }\n",
       "\n",
       "    .dataframe thead th {\n",
       "        text-align: right;\n",
       "    }\n",
       "</style>\n",
       "<table border=\"1\" class=\"dataframe\">\n",
       "  <thead>\n",
       "    <tr style=\"text-align: right;\">\n",
       "      <th></th>\n",
       "      <th>dlg_id</th>\n",
       "      <th>line_n</th>\n",
       "      <th>role</th>\n",
       "      <th>text</th>\n",
       "      <th>mark</th>\n",
       "    </tr>\n",
       "  </thead>\n",
       "  <tbody>\n",
       "    <tr>\n",
       "      <th>1</th>\n",
       "      <td>0</td>\n",
       "      <td>1</td>\n",
       "      <td>manager</td>\n",
       "      <td>Алло здравствуйте</td>\n",
       "      <td>1</td>\n",
       "    </tr>\n",
       "    <tr>\n",
       "      <th>3</th>\n",
       "      <td>0</td>\n",
       "      <td>3</td>\n",
       "      <td>manager</td>\n",
       "      <td>Меня зовут ангелина компания диджитал бизнес з...</td>\n",
       "      <td>1</td>\n",
       "    </tr>\n",
       "    <tr>\n",
       "      <th>62</th>\n",
       "      <td>0</td>\n",
       "      <td>62</td>\n",
       "      <td>manager</td>\n",
       "      <td>Да мы услышали вас спасибо за рекомендации</td>\n",
       "      <td>1</td>\n",
       "    </tr>\n",
       "    <tr>\n",
       "      <th>108</th>\n",
       "      <td>0</td>\n",
       "      <td>108</td>\n",
       "      <td>manager</td>\n",
       "      <td>Всего хорошего до свидания</td>\n",
       "      <td>1</td>\n",
       "    </tr>\n",
       "    <tr>\n",
       "      <th>110</th>\n",
       "      <td>1</td>\n",
       "      <td>1</td>\n",
       "      <td>manager</td>\n",
       "      <td>Алло здравствуйте</td>\n",
       "      <td>1</td>\n",
       "    </tr>\n",
       "    <tr>\n",
       "      <th>111</th>\n",
       "      <td>1</td>\n",
       "      <td>2</td>\n",
       "      <td>manager</td>\n",
       "      <td>Меня зовут ангелина компания диджитал бизнес з...</td>\n",
       "      <td>1</td>\n",
       "    </tr>\n",
       "    <tr>\n",
       "      <th>163</th>\n",
       "      <td>1</td>\n",
       "      <td>54</td>\n",
       "      <td>manager</td>\n",
       "      <td>До свидания</td>\n",
       "      <td>1</td>\n",
       "    </tr>\n",
       "    <tr>\n",
       "      <th>166</th>\n",
       "      <td>2</td>\n",
       "      <td>2</td>\n",
       "      <td>manager</td>\n",
       "      <td>Алло здравствуйте</td>\n",
       "      <td>1</td>\n",
       "    </tr>\n",
       "    <tr>\n",
       "      <th>167</th>\n",
       "      <td>2</td>\n",
       "      <td>3</td>\n",
       "      <td>manager</td>\n",
       "      <td>Меня зовут ангелина компания диджитал бизнес з...</td>\n",
       "      <td>1</td>\n",
       "    </tr>\n",
       "    <tr>\n",
       "      <th>250</th>\n",
       "      <td>3</td>\n",
       "      <td>1</td>\n",
       "      <td>manager</td>\n",
       "      <td>Алло дмитрий добрый день</td>\n",
       "      <td>1</td>\n",
       "    </tr>\n",
       "    <tr>\n",
       "      <th>251</th>\n",
       "      <td>3</td>\n",
       "      <td>2</td>\n",
       "      <td>manager</td>\n",
       "      <td>Добрый меня максим зовут компания китобизнес у...</td>\n",
       "      <td>1</td>\n",
       "    </tr>\n",
       "    <tr>\n",
       "      <th>335</th>\n",
       "      <td>4</td>\n",
       "      <td>33</td>\n",
       "      <td>manager</td>\n",
       "      <td>Во вторник все ну с вами да тогда до вторника ...</td>\n",
       "      <td>1</td>\n",
       "    </tr>\n",
       "    <tr>\n",
       "      <th>473</th>\n",
       "      <td>5</td>\n",
       "      <td>136</td>\n",
       "      <td>manager</td>\n",
       "      <td>Все записала тогда завтра ждите звонка</td>\n",
       "      <td>1</td>\n",
       "    </tr>\n",
       "    <tr>\n",
       "      <th>479</th>\n",
       "      <td>5</td>\n",
       "      <td>142</td>\n",
       "      <td>manager</td>\n",
       "      <td>Ну до свидания хорошего вечера</td>\n",
       "      <td>1</td>\n",
       "    </tr>\n",
       "  </tbody>\n",
       "</table>\n",
       "</div>"
      ],
      "text/plain": [
       "     dlg_id  line_n     role  \\\n",
       "1         0       1  manager   \n",
       "3         0       3  manager   \n",
       "62        0      62  manager   \n",
       "108       0     108  manager   \n",
       "110       1       1  manager   \n",
       "111       1       2  manager   \n",
       "163       1      54  manager   \n",
       "166       2       2  manager   \n",
       "167       2       3  manager   \n",
       "250       3       1  manager   \n",
       "251       3       2  manager   \n",
       "335       4      33  manager   \n",
       "473       5     136  manager   \n",
       "479       5     142  manager   \n",
       "\n",
       "                                                  text  mark  \n",
       "1                                    Алло здравствуйте     1  \n",
       "3    Меня зовут ангелина компания диджитал бизнес з...     1  \n",
       "62          Да мы услышали вас спасибо за рекомендации     1  \n",
       "108                         Всего хорошего до свидания     1  \n",
       "110                                  Алло здравствуйте     1  \n",
       "111  Меня зовут ангелина компания диджитал бизнес з...     1  \n",
       "163                                        До свидания     1  \n",
       "166                                  Алло здравствуйте     1  \n",
       "167  Меня зовут ангелина компания диджитал бизнес з...     1  \n",
       "250                           Алло дмитрий добрый день     1  \n",
       "251  Добрый меня максим зовут компания китобизнес у...     1  \n",
       "335  Во вторник все ну с вами да тогда до вторника ...     1  \n",
       "473             Все записала тогда завтра ждите звонка     1  \n",
       "479                     Ну до свидания хорошего вечера     1  "
      ]
     },
     "execution_count": 86,
     "metadata": {},
     "output_type": "execute_result"
    }
   ],
   "source": [
    "test_data[(test_data[\"mark\"] == 1) & (test_data[\"role\"] == \"manager\")]"
   ]
  },
  {
   "cell_type": "code",
   "execution_count": 41,
   "metadata": {},
   "outputs": [],
   "source": [
    "save_models(nn_clf, def_clf)"
   ]
  },
  {
   "cell_type": "markdown",
   "metadata": {},
   "source": [
    "NER"
   ]
  },
  {
   "cell_type": "code",
   "execution_count": 87,
   "metadata": {},
   "outputs": [],
   "source": [
    "extracted_replics = test_data[(test_data[\"mark\"] == 1) & (test_data[\"role\"] == \"manager\")][\"text\"]"
   ]
  },
  {
   "cell_type": "code",
   "execution_count": 124,
   "metadata": {},
   "outputs": [],
   "source": [
    "morph = pymorphy2.MorphAnalyzer()\n",
    "ru_stopwords = stopwords.words(\"russian\")"
   ]
  },
  {
   "cell_type": "code",
   "execution_count": null,
   "metadata": {},
   "outputs": [],
   "source": [
    "archive = load_archive(\"lrl-truecaser-model-ru.tar.gz\")\n",
    "predictor = Predictor.from_archive(archive, \"truecaser-predictor\")"
   ]
  },
  {
   "cell_type": "code",
   "execution_count": null,
   "metadata": {},
   "outputs": [],
   "source": [
    "fixed_replics = []\n",
    "\n",
    "for replic in extracted_replics:\n",
    "    replic = replic.title()\n",
    "    new_replic = \" \".join([morph.normal_forms(word)[0] for word in replic.split()\n",
    "              if (word not in ru_stopwords)])\n",
    "    \n",
    "    fixed_replics.append(new_replic)\n",
    "\n",
    "\n",
    "for replic in fixed_replics:\n",
    "    if replic:\n",
    "        stanza_nlp_ru(replic.title())\n"
   ]
  },
  {
   "cell_type": "code",
   "execution_count": null,
   "metadata": {},
   "outputs": [],
   "source": []
  }
 ],
 "metadata": {
  "kernelspec": {
   "display_name": "Python 3.9.6 64-bit",
   "language": "python",
   "name": "python3"
  },
  "language_info": {
   "codemirror_mode": {
    "name": "ipython",
    "version": 3
   },
   "file_extension": ".py",
   "mimetype": "text/x-python",
   "name": "python",
   "nbconvert_exporter": "python",
   "pygments_lexer": "ipython3",
   "version": "3.9.6"
  },
  "orig_nbformat": 4,
  "vscode": {
   "interpreter": {
    "hash": "92d93fa2a6e32d96e7dac402f34597514116f09396a20e0d5cf5fef27c1e0f34"
   }
  }
 },
 "nbformat": 4,
 "nbformat_minor": 2
}
